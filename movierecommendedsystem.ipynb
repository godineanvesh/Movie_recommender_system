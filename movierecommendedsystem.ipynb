{
  "nbformat": 4,
  "nbformat_minor": 0,
  "metadata": {
    "colab": {
      "name": "movierecommendedsystem.ipynb",
      "provenance": [],
      "authorship_tag": "ABX9TyN/WmKcyKbfOsmVdwQNelz1",
      "include_colab_link": true
    },
    "kernelspec": {
      "name": "python3",
      "display_name": "Python 3"
    },
    "language_info": {
      "name": "python"
    }
  },
  "cells": [
    {
      "cell_type": "markdown",
      "metadata": {
        "id": "view-in-github",
        "colab_type": "text"
      },
      "source": [
        "<a href=\"https://colab.research.google.com/github/godineanvesh/Movie_recommender_system/blob/main/movierecommendedsystem.ipynb\" target=\"_parent\"><img src=\"https://colab.research.google.com/assets/colab-badge.svg\" alt=\"Open In Colab\"/></a>"
      ]
    },
    {
      "cell_type": "code",
      "execution_count": 2,
      "metadata": {
        "id": "xsHxDh0VxaTg"
      },
      "outputs": [],
      "source": [
        "import pandas as pd"
      ]
    },
    {
      "cell_type": "code",
      "source": [
        "movies = pd.read_csv(\"https://github.com/SavioSal/datasets/raw/master/movie_clean.csv\",encoding = 'unicode_escape')\n",
        "movies.head()"
      ],
      "metadata": {
        "colab": {
          "base_uri": "https://localhost:8080/",
          "height": 206
        },
        "id": "EtA8TP_Yxfmx",
        "outputId": "aa1bb335-7bca-444b-b6b0-f94b1c09255a"
      },
      "execution_count": 3,
      "outputs": [
        {
          "output_type": "execute_result",
          "data": {
            "text/html": [
              "<div>\n",
              "<style scoped>\n",
              "    .dataframe tbody tr th:only-of-type {\n",
              "        vertical-align: middle;\n",
              "    }\n",
              "\n",
              "    .dataframe tbody tr th {\n",
              "        vertical-align: top;\n",
              "    }\n",
              "\n",
              "    .dataframe thead th {\n",
              "        text-align: right;\n",
              "    }\n",
              "</style>\n",
              "<table border=\"1\" class=\"dataframe\">\n",
              "  <thead>\n",
              "    <tr style=\"text-align: right;\">\n",
              "      <th></th>\n",
              "      <th>title</th>\n",
              "      <th>genres</th>\n",
              "      <th>runtime</th>\n",
              "      <th>vote_average</th>\n",
              "      <th>vote_count</th>\n",
              "      <th>year</th>\n",
              "      <th>overview</th>\n",
              "    </tr>\n",
              "  </thead>\n",
              "  <tbody>\n",
              "    <tr>\n",
              "      <th>0</th>\n",
              "      <td>Toy Story</td>\n",
              "      <td>['animation', 'comedy', 'family']</td>\n",
              "      <td>81.0</td>\n",
              "      <td>7.7</td>\n",
              "      <td>5415.0</td>\n",
              "      <td>1995.0</td>\n",
              "      <td>Led by Woody, Andy's toys live happily in his ...</td>\n",
              "    </tr>\n",
              "    <tr>\n",
              "      <th>1</th>\n",
              "      <td>Jumanji</td>\n",
              "      <td>['adventure', 'fantasy', 'family']</td>\n",
              "      <td>104.0</td>\n",
              "      <td>6.9</td>\n",
              "      <td>2413.0</td>\n",
              "      <td>1995.0</td>\n",
              "      <td>When siblings Judy and Peter discover an encha...</td>\n",
              "    </tr>\n",
              "    <tr>\n",
              "      <th>2</th>\n",
              "      <td>Grumpier Old Men</td>\n",
              "      <td>['romance', 'comedy']</td>\n",
              "      <td>101.0</td>\n",
              "      <td>6.5</td>\n",
              "      <td>92.0</td>\n",
              "      <td>1995.0</td>\n",
              "      <td>A family wedding reignites the ancient feud be...</td>\n",
              "    </tr>\n",
              "    <tr>\n",
              "      <th>3</th>\n",
              "      <td>Waiting to Exhale</td>\n",
              "      <td>['comedy', 'drama', 'romance']</td>\n",
              "      <td>127.0</td>\n",
              "      <td>6.1</td>\n",
              "      <td>34.0</td>\n",
              "      <td>1995.0</td>\n",
              "      <td>Cheated on, mistreated and stepped on, the wom...</td>\n",
              "    </tr>\n",
              "    <tr>\n",
              "      <th>4</th>\n",
              "      <td>Father of the Bride Part II</td>\n",
              "      <td>['comedy']</td>\n",
              "      <td>106.0</td>\n",
              "      <td>5.7</td>\n",
              "      <td>173.0</td>\n",
              "      <td>1995.0</td>\n",
              "      <td>Just when George Banks has recovered from his ...</td>\n",
              "    </tr>\n",
              "  </tbody>\n",
              "</table>\n",
              "</div>"
            ],
            "text/plain": [
              "                         title  ...                                           overview\n",
              "0                    Toy Story  ...  Led by Woody, Andy's toys live happily in his ...\n",
              "1                      Jumanji  ...  When siblings Judy and Peter discover an encha...\n",
              "2             Grumpier Old Men  ...  A family wedding reignites the ancient feud be...\n",
              "3            Waiting to Exhale  ...  Cheated on, mistreated and stepped on, the wom...\n",
              "4  Father of the Bride Part II  ...  Just when George Banks has recovered from his ...\n",
              "\n",
              "[5 rows x 7 columns]"
            ]
          },
          "metadata": {},
          "execution_count": 3
        }
      ]
    },
    {
      "cell_type": "code",
      "source": [
        "movie_name = input(\"please enter the movie name: \")"
      ],
      "metadata": {
        "colab": {
          "base_uri": "https://localhost:8080/"
        },
        "id": "ZLzzfO6tzsNR",
        "outputId": "1450448f-5617-48f0-c487-0f8f52e849f4"
      },
      "execution_count": 12,
      "outputs": [
        {
          "name": "stdout",
          "output_type": "stream",
          "text": [
            "please enter the movie name: Jumanji\n"
          ]
        }
      ]
    },
    {
      "cell_type": "code",
      "source": [
        "movies = movies.fillna(\"\")"
      ],
      "metadata": {
        "id": "ym3EVQ7I1lRi"
      },
      "execution_count": 13,
      "outputs": []
    },
    {
      "cell_type": "code",
      "source": [
        "selected_movie = movies[movies['title'].str.contains(movie_name)]"
      ],
      "metadata": {
        "id": "kUQUMXcs1xQJ"
      },
      "execution_count": 14,
      "outputs": []
    },
    {
      "cell_type": "code",
      "source": [
        "selected_movie"
      ],
      "metadata": {
        "colab": {
          "base_uri": "https://localhost:8080/",
          "height": 81
        },
        "id": "F0GIeg8h28wq",
        "outputId": "d8546db0-c35a-4485-ffe3-bd9e15b5b134"
      },
      "execution_count": 15,
      "outputs": [
        {
          "output_type": "execute_result",
          "data": {
            "text/html": [
              "<div>\n",
              "<style scoped>\n",
              "    .dataframe tbody tr th:only-of-type {\n",
              "        vertical-align: middle;\n",
              "    }\n",
              "\n",
              "    .dataframe tbody tr th {\n",
              "        vertical-align: top;\n",
              "    }\n",
              "\n",
              "    .dataframe thead th {\n",
              "        text-align: right;\n",
              "    }\n",
              "</style>\n",
              "<table border=\"1\" class=\"dataframe\">\n",
              "  <thead>\n",
              "    <tr style=\"text-align: right;\">\n",
              "      <th></th>\n",
              "      <th>title</th>\n",
              "      <th>genres</th>\n",
              "      <th>runtime</th>\n",
              "      <th>vote_average</th>\n",
              "      <th>vote_count</th>\n",
              "      <th>year</th>\n",
              "      <th>overview</th>\n",
              "    </tr>\n",
              "  </thead>\n",
              "  <tbody>\n",
              "    <tr>\n",
              "      <th>1</th>\n",
              "      <td>Jumanji</td>\n",
              "      <td>['adventure', 'fantasy', 'family']</td>\n",
              "      <td>104</td>\n",
              "      <td>6.9</td>\n",
              "      <td>2413</td>\n",
              "      <td>1995</td>\n",
              "      <td>When siblings Judy and Peter discover an encha...</td>\n",
              "    </tr>\n",
              "  </tbody>\n",
              "</table>\n",
              "</div>"
            ],
            "text/plain": [
              "     title  ...                                           overview\n",
              "1  Jumanji  ...  When siblings Judy and Peter discover an encha...\n",
              "\n",
              "[1 rows x 7 columns]"
            ]
          },
          "metadata": {},
          "execution_count": 15
        }
      ]
    },
    {
      "cell_type": "code",
      "source": [
        "selected_movie_genre = selected_movie['genres']"
      ],
      "metadata": {
        "id": "kZV3vqE72-eQ"
      },
      "execution_count": 16,
      "outputs": []
    },
    {
      "cell_type": "code",
      "source": [
        "selected_movie_genre"
      ],
      "metadata": {
        "colab": {
          "base_uri": "https://localhost:8080/"
        },
        "id": "kkXYhDEf3JZm",
        "outputId": "8d04d695-ebe0-4c47-92ec-c996b74ad519"
      },
      "execution_count": 17,
      "outputs": [
        {
          "output_type": "execute_result",
          "data": {
            "text/plain": [
              "1    ['adventure', 'fantasy', 'family']\n",
              "Name: genres, dtype: object"
            ]
          },
          "metadata": {},
          "execution_count": 17
        }
      ]
    },
    {
      "cell_type": "code",
      "source": [
        "movie_index_counter = -1\n",
        "movie_index_list = []\n",
        "for ind_movie_genre in movies['genres']:\n",
        "  movie_index_counter += 1\n",
        "  for single_genre in selected_movie_genre:\n",
        "    if single_genre in ind_movie_genre:\n",
        "      movie_index_list.append(movie_index_counter)\n",
        "      break\n",
        "\n",
        "print('Movie_index_list :', movie_index_list)"
      ],
      "metadata": {
        "colab": {
          "base_uri": "https://localhost:8080/"
        },
        "id": "mja_3n4S6V31",
        "outputId": "693578b7-833c-42d0-839f-93420a34a9fc"
      },
      "execution_count": 19,
      "outputs": [
        {
          "output_type": "stream",
          "name": "stdout",
          "text": [
            "Movie_index_list : [1, 4766, 5406, 5678, 6101, 7011, 7725, 10554, 10896, 11981, 13893, 14841, 16128, 23473, 27737, 38208]\n"
          ]
        }
      ]
    },
    {
      "cell_type": "code",
      "source": [
        "movies.take(movie_index_list)"
      ],
      "metadata": {
        "colab": {
          "base_uri": "https://localhost:8080/",
          "height": 551
        },
        "id": "_uMqMMExn_SC",
        "outputId": "008247a6-f20b-443f-fc99-cc6348fda0be"
      },
      "execution_count": 20,
      "outputs": [
        {
          "output_type": "execute_result",
          "data": {
            "text/html": [
              "<div>\n",
              "<style scoped>\n",
              "    .dataframe tbody tr th:only-of-type {\n",
              "        vertical-align: middle;\n",
              "    }\n",
              "\n",
              "    .dataframe tbody tr th {\n",
              "        vertical-align: top;\n",
              "    }\n",
              "\n",
              "    .dataframe thead th {\n",
              "        text-align: right;\n",
              "    }\n",
              "</style>\n",
              "<table border=\"1\" class=\"dataframe\">\n",
              "  <thead>\n",
              "    <tr style=\"text-align: right;\">\n",
              "      <th></th>\n",
              "      <th>title</th>\n",
              "      <th>genres</th>\n",
              "      <th>runtime</th>\n",
              "      <th>vote_average</th>\n",
              "      <th>vote_count</th>\n",
              "      <th>year</th>\n",
              "      <th>overview</th>\n",
              "    </tr>\n",
              "  </thead>\n",
              "  <tbody>\n",
              "    <tr>\n",
              "      <th>1</th>\n",
              "      <td>Jumanji</td>\n",
              "      <td>['adventure', 'fantasy', 'family']</td>\n",
              "      <td>104</td>\n",
              "      <td>6.9</td>\n",
              "      <td>2413</td>\n",
              "      <td>1995</td>\n",
              "      <td>When siblings Judy and Peter discover an encha...</td>\n",
              "    </tr>\n",
              "    <tr>\n",
              "      <th>4766</th>\n",
              "      <td>Harry Potter and the Philosopher's Stone</td>\n",
              "      <td>['adventure', 'fantasy', 'family']</td>\n",
              "      <td>152</td>\n",
              "      <td>7.5</td>\n",
              "      <td>7188</td>\n",
              "      <td>2001</td>\n",
              "      <td>Artist Lyle Maze is reconciled to a life witho...</td>\n",
              "    </tr>\n",
              "    <tr>\n",
              "      <th>5406</th>\n",
              "      <td>Clash of the Titans</td>\n",
              "      <td>['adventure', 'fantasy', 'family']</td>\n",
              "      <td>118</td>\n",
              "      <td>6.8</td>\n",
              "      <td>208</td>\n",
              "      <td>1981</td>\n",
              "      <td>Naoya and Katsuhiro are boyfriends, new in the...</td>\n",
              "    </tr>\n",
              "    <tr>\n",
              "      <th>5678</th>\n",
              "      <td>Harry Potter and the Chamber of Secrets</td>\n",
              "      <td>['adventure', 'fantasy', 'family']</td>\n",
              "      <td>161</td>\n",
              "      <td>7.4</td>\n",
              "      <td>5966</td>\n",
              "      <td>2002</td>\n",
              "      <td>A newspaper photographer, Jean, researches the...</td>\n",
              "    </tr>\n",
              "    <tr>\n",
              "      <th>6101</th>\n",
              "      <td>Journey to the Center of the Earth</td>\n",
              "      <td>['adventure', 'fantasy', 'family']</td>\n",
              "      <td>132</td>\n",
              "      <td>6.7</td>\n",
              "      <td>107</td>\n",
              "      <td>1959</td>\n",
              "      <td>The Benny Goodman Story is a biographical film...</td>\n",
              "    </tr>\n",
              "    <tr>\n",
              "      <th>7011</th>\n",
              "      <td>Peter Pan</td>\n",
              "      <td>['adventure', 'fantasy', 'family']</td>\n",
              "      <td>113</td>\n",
              "      <td>6.9</td>\n",
              "      <td>671</td>\n",
              "      <td>2003</td>\n",
              "      <td>Using archival footage, United States Cabinet ...</td>\n",
              "    </tr>\n",
              "    <tr>\n",
              "      <th>7725</th>\n",
              "      <td>Harry Potter and the Prisoner of Azkaban</td>\n",
              "      <td>['adventure', 'fantasy', 'family']</td>\n",
              "      <td>141</td>\n",
              "      <td>7.7</td>\n",
              "      <td>6037</td>\n",
              "      <td>2004</td>\n",
              "      <td>A dramatization of the controversial trial con...</td>\n",
              "    </tr>\n",
              "    <tr>\n",
              "      <th>10554</th>\n",
              "      <td>Harry Potter and the Goblet of Fire</td>\n",
              "      <td>['adventure', 'fantasy', 'family']</td>\n",
              "      <td>157</td>\n",
              "      <td>7.5</td>\n",
              "      <td>5758</td>\n",
              "      <td>2005</td>\n",
              "      <td>Pete (played by Antti Tarvainen) loses his con...</td>\n",
              "    </tr>\n",
              "    <tr>\n",
              "      <th>10896</th>\n",
              "      <td>The Brothers Lionheart</td>\n",
              "      <td>['adventure', 'fantasy', 'family']</td>\n",
              "      <td>102</td>\n",
              "      <td>6.9</td>\n",
              "      <td>22</td>\n",
              "      <td>1977</td>\n",
              "      <td>The year is 2000 and investors are going crazy...</td>\n",
              "    </tr>\n",
              "    <tr>\n",
              "      <th>11981</th>\n",
              "      <td>Jack the Giant Killer</td>\n",
              "      <td>['adventure', 'fantasy', 'family']</td>\n",
              "      <td>94</td>\n",
              "      <td>5.3</td>\n",
              "      <td>14</td>\n",
              "      <td>1962</td>\n",
              "      <td>Bourne is brought out of hiding once again by ...</td>\n",
              "    </tr>\n",
              "    <tr>\n",
              "      <th>13893</th>\n",
              "      <td>Harry Potter and the Half-Blood Prince</td>\n",
              "      <td>['adventure', 'fantasy', 'family']</td>\n",
              "      <td>153</td>\n",
              "      <td>7.4</td>\n",
              "      <td>5435</td>\n",
              "      <td>2009</td>\n",
              "      <td>The movie focuses on one of the events in Zend...</td>\n",
              "    </tr>\n",
              "    <tr>\n",
              "      <th>14841</th>\n",
              "      <td>Percy Jackson &amp; the Olympians: The Lightning T...</td>\n",
              "      <td>['adventure', 'fantasy', 'family']</td>\n",
              "      <td>118</td>\n",
              "      <td>6</td>\n",
              "      <td>2079</td>\n",
              "      <td>2010</td>\n",
              "      <td>A young father and his infant son are beset by...</td>\n",
              "    </tr>\n",
              "    <tr>\n",
              "      <th>16128</th>\n",
              "      <td>Harry Potter and the Deathly Hallows: Part 1</td>\n",
              "      <td>['adventure', 'fantasy', 'family']</td>\n",
              "      <td>146</td>\n",
              "      <td>7.5</td>\n",
              "      <td>5708</td>\n",
              "      <td>2010</td>\n",
              "      <td>Shakespeare's 17th century masterpiece about t...</td>\n",
              "    </tr>\n",
              "    <tr>\n",
              "      <th>23473</th>\n",
              "      <td>Neverland</td>\n",
              "      <td>['adventure', 'fantasy', 'family']</td>\n",
              "      <td>180</td>\n",
              "      <td>6</td>\n",
              "      <td>93</td>\n",
              "      <td>2011</td>\n",
              "      <td>Satan's School for Girls is set within the gri...</td>\n",
              "    </tr>\n",
              "    <tr>\n",
              "      <th>27737</th>\n",
              "      <td>Journey to the Beginning of Time</td>\n",
              "      <td>['adventure', 'fantasy', 'family']</td>\n",
              "      <td>93</td>\n",
              "      <td>8</td>\n",
              "      <td>11</td>\n",
              "      <td>1955</td>\n",
              "      <td>A 2,000-year-old astrology board possesses dea...</td>\n",
              "    </tr>\n",
              "    <tr>\n",
              "      <th>38208</th>\n",
              "      <td>Old Man Khottabych</td>\n",
              "      <td>['adventure', 'fantasy', 'family']</td>\n",
              "      <td>86</td>\n",
              "      <td>6.1</td>\n",
              "      <td>7</td>\n",
              "      <td>1956</td>\n",
              "      <td>Baldwinâs âpseudo-pseudo-documentaryâ pr...</td>\n",
              "    </tr>\n",
              "  </tbody>\n",
              "</table>\n",
              "</div>"
            ],
            "text/plain": [
              "                                                   title  ...                                           overview\n",
              "1                                                Jumanji  ...  When siblings Judy and Peter discover an encha...\n",
              "4766            Harry Potter and the Philosopher's Stone  ...  Artist Lyle Maze is reconciled to a life witho...\n",
              "5406                                 Clash of the Titans  ...  Naoya and Katsuhiro are boyfriends, new in the...\n",
              "5678             Harry Potter and the Chamber of Secrets  ...  A newspaper photographer, Jean, researches the...\n",
              "6101                  Journey to the Center of the Earth  ...  The Benny Goodman Story is a biographical film...\n",
              "7011                                           Peter Pan  ...  Using archival footage, United States Cabinet ...\n",
              "7725            Harry Potter and the Prisoner of Azkaban  ...  A dramatization of the controversial trial con...\n",
              "10554                Harry Potter and the Goblet of Fire  ...  Pete (played by Antti Tarvainen) loses his con...\n",
              "10896                             The Brothers Lionheart  ...  The year is 2000 and investors are going crazy...\n",
              "11981                              Jack the Giant Killer  ...  Bourne is brought out of hiding once again by ...\n",
              "13893             Harry Potter and the Half-Blood Prince  ...  The movie focuses on one of the events in Zend...\n",
              "14841  Percy Jackson & the Olympians: The Lightning T...  ...  A young father and his infant son are beset by...\n",
              "16128       Harry Potter and the Deathly Hallows: Part 1  ...  Shakespeare's 17th century masterpiece about t...\n",
              "23473                                          Neverland  ...  Satan's School for Girls is set within the gri...\n",
              "27737                   Journey to the Beginning of Time  ...  A 2,000-year-old astrology board possesses dea...\n",
              "38208                                 Old Man Khottabych  ...  Baldwinâs âpseudo-pseudo-documentaryâ pr...\n",
              "\n",
              "[16 rows x 7 columns]"
            ]
          },
          "metadata": {},
          "execution_count": 20
        }
      ]
    },
    {
      "cell_type": "code",
      "source": [
        "movies_df = movies.loc[movies['genres'].isin(selected_movie_genre)]"
      ],
      "metadata": {
        "id": "q3mmSo4OoZ66"
      },
      "execution_count": 28,
      "outputs": []
    },
    {
      "cell_type": "code",
      "source": [
        "def movie_recommender():\n",
        "  movies = pd.read_csv(\"https://github.com/SavioSal/datasets/raw/master/movie_clean.csv\",encoding = 'unicode_escape')\n",
        "  movie_name = input(\"please enter the movie name: \")\n",
        "  movies = movies.fillna(\"\")\n",
        "  selected_movie = movies[movies['title'].str.contains(movie_name)]\n",
        "  selected_movie_genre = selected_movie['genres']\n",
        "  movies_df = movies.loc[movies['genres'].isin(selected_movie_genre)]\n",
        "  print('Enjoy watching following movies :', movies_df['title'])"
      ],
      "metadata": {
        "id": "IjdjSkklrYgp"
      },
      "execution_count": 39,
      "outputs": []
    },
    {
      "cell_type": "code",
      "source": [
        "movie_recommender()"
      ],
      "metadata": {
        "colab": {
          "base_uri": "https://localhost:8080/"
        },
        "id": "8LQA__CesrH5",
        "outputId": "70d23d39-4edc-4730-e0f8-8f7ed7e5cd37"
      },
      "execution_count": 41,
      "outputs": [
        {
          "output_type": "stream",
          "name": "stdout",
          "text": [
            "please enter the movie name: Toy Story\n",
            "Enjoy watching following movies : 0                               Toy Story\n",
            "589                             Pinocchio\n",
            "695                      Oliver & Company\n",
            "996                The Sword in the Stone\n",
            "1000                                Dumbo\n",
            "                       ...               \n",
            "45052                  Gena the Crocodile\n",
            "45136                              Banana\n",
            "45254            Minions: Orientation Day\n",
            "45272                Hemo The Magnificent\n",
            "45449    Pooh's Heffalump Halloween Movie\n",
            "Name: title, Length: 268, dtype: object\n"
          ]
        }
      ]
    },
    {
      "cell_type": "code",
      "source": [
        "movies.shape"
      ],
      "metadata": {
        "colab": {
          "base_uri": "https://localhost:8080/"
        },
        "id": "KRp5V5eTyPx5",
        "outputId": "e4825d15-1aae-4575-9198-e8798d89c06b"
      },
      "execution_count": 11,
      "outputs": [
        {
          "output_type": "execute_result",
          "data": {
            "text/plain": [
              "(45572, 7)"
            ]
          },
          "metadata": {},
          "execution_count": 11
        }
      ]
    }
  ]
}